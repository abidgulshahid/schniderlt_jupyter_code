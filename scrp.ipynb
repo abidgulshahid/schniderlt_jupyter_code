{
 "cells": [
  {
   "cell_type": "code",
   "execution_count": null,
   "metadata": {
    "collapsed": false
   },
   "outputs": [],
   "source": "import excel2json\n\nconvert = excel2json.convert_from_file('assignment.xls')"
  }
 ],
 "metadata": {},
 "nbformat": 4,
 "nbformat_minor": 4
}
