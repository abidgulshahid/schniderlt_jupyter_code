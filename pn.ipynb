{
 "cells": [
  {
   "cell_type": "code",
   "execution_count": null,
   "metadata": {
    "collapsed": false
   },
   "outputs": [],
   "source": "#!/usr/bin/env python3\n\ndef parse_args():\n  import argparse\n  import os\n\n  parser = argparse.ArgumentParser(description='Convert Excel to JSON')\n  parser.add_argument(\n    '-f', '--force',\n    help='Overwrite destination file if it already exists')\n  parser.add_argument(\n    '-o', '--outfile',\n    help='Destination file (.json)')\n  parser.add_argument(\n    '-q', '--quiet',\n    action='store_true',\n    default=False,\n    help='Be quiet')\n  parser.add_argument(\n    'src',\n    nargs='+',\n    type=str,\n    help='source file (.xlsx)')\n\n  return parser.parse_args()\n\ndef records_for_json(df):\n  columns = [str(k) for k in df.columns]\n  return [dict(zip(columns, row)) for row in df.values]\n\ndef main():\n  import os\n  import simplejson as json\n  import pandas as pd\n\n  class PandasJsonEncoder(json.JSONEncoder):\n    def default(self, obj):\n      import datetime\n      if any(isinstance(obj, cls) for cls in (datetime.time, datetime.datetime, pd.Timestamp)):\n        return obj.isoformat()\n      elif pd.isnull(obj):\n        return None\n      else:\n        return super(PandasJsonEncoder, self).default(obj)\n\n  args = parse_args()\n\n  for src in args.src:\n    if args.outfile:\n      dst = args.outfile\n    else:\n      filename, _ = os.path.splitext(os.path.basename(src))\n      dst = f'{filename}.json'\n\n    all_sheet_data = []\n\n    for sheet_name in pd.ExcelFile(src).sheet_names:\n      sheet = pd.read_excel(src, sheet_name=sheet_name)\n      records = records_for_json(sheet)\n      all_sheet_data.append({ 'sheet_name': sheet_name, 'records': records })\n\n    mode = 'w' if args.force else 'x'\n    with open(dst, mode) as f:\n      json.dump(all_sheet_data, f, ignore_nan=True, cls=PandasJsonEncoder, indent=4)\n\n    if not args.quiet:\n      arrow = '\\u2192'\n      print(f'{src} {arrow} {dst}')\n\nif __name__ == '__main__':\n  main()"
  }
 ],
 "metadata": {
  "kernelspec": {
   "display_name": "Python 2",
   "language": "python",
   "name": "python2"
  },
  "language_info": {
   "codemirror_mode": {
    "name": "ipython",
    "version": 2
   },
   "file_extension": ".py",
   "mimetype": "text/x-python",
   "name": "python",
   "nbconvert_exporter": "python",
   "pygments_lexer": "ipython2",
   "version": "2.7.16"
  }
 },
 "nbformat": 4,
 "nbformat_minor": 4
}
